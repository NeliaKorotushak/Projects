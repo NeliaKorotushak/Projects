{
 "cells": [
  {
   "cell_type": "code",
   "execution_count": 2,
   "id": "44616ce1",
   "metadata": {},
   "outputs": [],
   "source": [
    "#create a class\n",
    "class Vehicle:\n",
    "    type_ = str()\n",
    "    max_speed = float()\n",
    "    mileage = int()\n",
    "    #create a constructor which is activated when object is made\n",
    "    def __init__(self, type_, max_speed, mileage):\n",
    "        self.type_ = type_\n",
    "        self.max_speed = max_speed\n",
    "        self.mileage = mileage\n",
    "    #create a method to describe an object\n",
    "    def description(self):\n",
    "        print('Type:', self.type_,'\\nMax speed:', self.max_speed, '\\nMileage:', self.mileage)\n",
    "        \n",
    "    #count a rent which is a square number of seats\n",
    "    def rent(self, seats):\n",
    "        return seats**2\n",
    "    \n",
    "    #create a method to increase mileage by distance\n",
    "    def drive(self, distance):\n",
    "        self.mileage += distance\n",
    "        \n",
    "    #function that shows us if vehicle needs service depending on mileage\n",
    "    def service_alert(self):\n",
    "        if self.mileage // 10000 == 0:\n",
    "            print('No Service Required!')\n",
    "        else:\n",
    "            print('Service Required! '*(self.mileage//10000))\n",
    "        "
   ]
  },
  {
   "cell_type": "code",
   "execution_count": 3,
   "id": "0580c1ff",
   "metadata": {},
   "outputs": [],
   "source": [
    "#create a child class inheriting from Vehicle\n",
    "class Bus(Vehicle):\n",
    "    #make it to take a value capacity alongside with other values, which parental class takes\n",
    "    def __init__(self, type_, max_speed, mileage, capacity = 50):\n",
    "        super(Bus, self).__init__(type_, max_speed, mileage)\n",
    "        self.capacity = capacity\n",
    "    \n",
    "    #include capacity in object description\n",
    "    def description(self):\n",
    "        super(Bus, self).description()\n",
    "        print('Capacity:', self.capacity)\n",
    "        \n",
    "    #make different rent for a bus, if there are more than 10 seats\n",
    "    def rent(self):\n",
    "        super(Bus, self).rent(seats = self.capacity)\n",
    "        if self.capacity > 10:\n",
    "            return (self.capacity**2)*1.1\n",
    "        \n",
    "        \n",
    "        \n",
    "#create another child class\n",
    "class Car(Vehicle):\n",
    "    def __init__(self, type_, max_speed, mileage, color = 'white'):\n",
    "        super(Car, self).__init__(type_, max_speed, mileage)\n",
    "        self.color = color\n",
    "    \n",
    "    def description(self):\n",
    "        super(Car, self).description()\n",
    "        print('Color:', self.color)"
   ]
  },
  {
   "cell_type": "code",
   "execution_count": 4,
   "id": "e6529076",
   "metadata": {},
   "outputs": [
    {
     "name": "stdout",
     "output_type": "stream",
     "text": [
      "Type: Fiat 500 \n",
      "Max speed: 50 \n",
      "Mileage: 9000\n",
      "No Service Required!\n",
      "Type: Fiat 500 \n",
      "Max speed: 50 \n",
      "Mileage: 10300\n",
      "Service Required! \n",
      "Type: Lightning McQueen \n",
      "Max speed: 10000000 \n",
      "Mileage: 10000\n",
      "Color: red\n",
      "Type: Богдан \n",
      "Max speed: 100 \n",
      "Mileage: 202020\n",
      "Capacity: 12\n",
      "Service Required! Service Required! Service Required! Service Required! Service Required! Service Required! Service Required! Service Required! Service Required! Service Required! Service Required! Service Required! Service Required! Service Required! Service Required! Service Required! Service Required! Service Required! Service Required! Service Required! \n",
      "4\n",
      "158.4\n"
     ]
    }
   ],
   "source": [
    "#Check\n",
    "veh = Vehicle('Fiat 500', 50, 9000)\n",
    "veh.description()\n",
    "veh.service_alert()\n",
    "veh.drive(1300)\n",
    "veh.description()\n",
    "veh.service_alert()\n",
    "\n",
    "\n",
    "auto = Car('Lightning McQueen', 10000000, 10000, 'red') \n",
    "auto.description()\n",
    "\n",
    "bu = Bus('Богдан', 100, 202020, 12)\n",
    "bu.description()\n",
    "bu.service_alert()\n",
    "\n",
    "print(veh.rent(2))\n",
    "print(bu.rent())"
   ]
  }
 ],
 "metadata": {
  "kernelspec": {
   "display_name": "Python 3 (ipykernel)",
   "language": "python",
   "name": "python3"
  },
  "language_info": {
   "codemirror_mode": {
    "name": "ipython",
    "version": 3
   },
   "file_extension": ".py",
   "mimetype": "text/x-python",
   "name": "python",
   "nbconvert_exporter": "python",
   "pygments_lexer": "ipython3",
   "version": "3.10.9"
  }
 },
 "nbformat": 4,
 "nbformat_minor": 5
}
